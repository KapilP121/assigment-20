{
 "cells": [
  {
   "cell_type": "markdown",
   "id": "7b75bf5a-8c70-49c4-a815-4a827722170c",
   "metadata": {},
   "source": [
    "Write a program to reverse a string.Write a program to reverse a string."
   ]
  },
  {
   "cell_type": "code",
   "execution_count": 2,
   "id": "e8c4e3bc-485d-428a-a334-71c552161d39",
   "metadata": {},
   "outputs": [],
   "source": [
    "S1 = 'Pwskill'"
   ]
  },
  {
   "cell_type": "code",
   "execution_count": 4,
   "id": "507a603f-35f9-4021-b6f4-5fd7f5b54ee7",
   "metadata": {},
   "outputs": [
    {
     "data": {
      "text/plain": [
       "'llikswP'"
      ]
     },
     "execution_count": 4,
     "metadata": {},
     "output_type": "execute_result"
    }
   ],
   "source": [
    "S1[: : -1]"
   ]
  },
  {
   "cell_type": "code",
   "execution_count": 5,
   "id": "2a637c6e-f108-4f06-8cba-93d540198141",
   "metadata": {},
   "outputs": [],
   "source": [
    "l1=['kapil','ram',1,2,35,4]"
   ]
  },
  {
   "cell_type": "code",
   "execution_count": 32,
   "id": "1c2a0f37-5ce3-409a-a2c0-7d9821d3f3cd",
   "metadata": {},
   "outputs": [],
   "source": [
    "l1.reverse()"
   ]
  },
  {
   "cell_type": "code",
   "execution_count": 33,
   "id": "a8c902bc-b120-44b6-a3c1-bfede2bf2694",
   "metadata": {},
   "outputs": [
    {
     "data": {
      "text/plain": [
       "[4, 35, 2, 1, 'ram', 'kapil']"
      ]
     },
     "execution_count": 33,
     "metadata": {},
     "output_type": "execute_result"
    }
   ],
   "source": [
    "l1"
   ]
  },
  {
   "cell_type": "markdown",
   "id": "14bc109f-dcd8-497b-9bb9-6cb560fd27a3",
   "metadata": {},
   "source": [
    "Convert a string to uppercase."
   ]
  },
  {
   "cell_type": "code",
   "execution_count": 35,
   "id": "971aea69-a3b1-479b-a729-51d9a5d89afa",
   "metadata": {},
   "outputs": [
    {
     "data": {
      "text/plain": [
       "'Pwskill'"
      ]
     },
     "execution_count": 35,
     "metadata": {},
     "output_type": "execute_result"
    }
   ],
   "source": [
    "S1"
   ]
  },
  {
   "cell_type": "code",
   "execution_count": 36,
   "id": "96e7be7d-dd8f-486d-9939-842bc1c1a20e",
   "metadata": {},
   "outputs": [
    {
     "data": {
      "text/plain": [
       "'PWSKILL'"
      ]
     },
     "execution_count": 36,
     "metadata": {},
     "output_type": "execute_result"
    }
   ],
   "source": [
    "S1.upper()"
   ]
  },
  {
   "cell_type": "markdown",
   "id": "04f4e351-5ba7-4fe3-8a45-af1d9e55cbf0",
   "metadata": {},
   "source": [
    "Convert a string to lowercase."
   ]
  },
  {
   "cell_type": "code",
   "execution_count": 37,
   "id": "cca20271-0775-4bb0-8b29-fdc815cdf847",
   "metadata": {},
   "outputs": [
    {
     "data": {
      "text/plain": [
       "'Pwskill'"
      ]
     },
     "execution_count": 37,
     "metadata": {},
     "output_type": "execute_result"
    }
   ],
   "source": [
    "S1"
   ]
  },
  {
   "cell_type": "code",
   "execution_count": 38,
   "id": "3afa255e-01eb-44ee-9c4e-1f62ab46253b",
   "metadata": {},
   "outputs": [
    {
     "data": {
      "text/plain": [
       "'pwskill'"
      ]
     },
     "execution_count": 38,
     "metadata": {},
     "output_type": "execute_result"
    }
   ],
   "source": [
    "S1.lower()"
   ]
  },
  {
   "cell_type": "markdown",
   "id": "24b76d1c-c453-4c71-ba6e-256718985c54",
   "metadata": {},
   "source": [
    "Remove all whitespaces from a string."
   ]
  },
  {
   "cell_type": "code",
   "execution_count": 40,
   "id": "bf34b056-951c-421c-a298-b79b61edc32e",
   "metadata": {},
   "outputs": [],
   "source": [
    "s1 = '        Kapil     '"
   ]
  },
  {
   "cell_type": "code",
   "execution_count": 41,
   "id": "97a265b7-5d17-4c28-ad33-c1cb1cdfb424",
   "metadata": {},
   "outputs": [
    {
     "data": {
      "text/plain": [
       "'Kapil'"
      ]
     },
     "execution_count": 41,
     "metadata": {},
     "output_type": "execute_result"
    }
   ],
   "source": [
    "s1.strip()"
   ]
  },
  {
   "cell_type": "markdown",
   "id": "1adc1cf9-82d9-4a7b-8542-55b59fdd2a48",
   "metadata": {},
   "source": [
    "Replace a word in a string with another word."
   ]
  },
  {
   "cell_type": "code",
   "execution_count": 42,
   "id": "01b8f3fd-a95f-4a2c-8b6a-98f7dcc5d90d",
   "metadata": {},
   "outputs": [],
   "source": [
    "s2= 'My Name is Kapil '"
   ]
  },
  {
   "cell_type": "code",
   "execution_count": 43,
   "id": "6843d1cb-4024-4ef5-ba0d-f2dc97b24045",
   "metadata": {},
   "outputs": [
    {
     "data": {
      "text/plain": [
       "'My Name is Rapil '"
      ]
     },
     "execution_count": 43,
     "metadata": {},
     "output_type": "execute_result"
    }
   ],
   "source": [
    "s2.replace('K','R')"
   ]
  },
  {
   "cell_type": "markdown",
   "id": "b664c188-3734-447d-bf51-11f028517342",
   "metadata": {},
   "source": [
    "Count the occurrences of a word in a string."
   ]
  },
  {
   "cell_type": "code",
   "execution_count": 44,
   "id": "d9282a80-a5a7-4167-a925-9600f00c1632",
   "metadata": {},
   "outputs": [
    {
     "data": {
      "text/plain": [
       "'My Name is Kapil '"
      ]
     },
     "execution_count": 44,
     "metadata": {},
     "output_type": "execute_result"
    }
   ],
   "source": [
    "s2"
   ]
  },
  {
   "cell_type": "code",
   "execution_count": 46,
   "id": "af0520a8-b263-423b-bc67-7e79ccc03f88",
   "metadata": {},
   "outputs": [
    {
     "data": {
      "text/plain": [
       "2"
      ]
     },
     "execution_count": 46,
     "metadata": {},
     "output_type": "execute_result"
    }
   ],
   "source": [
    "s2.count('a')"
   ]
  },
  {
   "cell_type": "markdown",
   "id": "57d5d8c8-7cf0-4059-9e0a-d63bd5fad871",
   "metadata": {},
   "source": [
    "Find the first occurrence of a word in a string"
   ]
  },
  {
   "cell_type": "code",
   "execution_count": 48,
   "id": "cc746048-ca21-4f00-8015-ebd3e7c355d7",
   "metadata": {},
   "outputs": [],
   "source": [
    "string = \"Python Language, Java Language\""
   ]
  },
  {
   "cell_type": "code",
   "execution_count": 49,
   "id": "e737f4e1-0092-4c1b-858f-6a2f92110f27",
   "metadata": {},
   "outputs": [
    {
     "name": "stdout",
     "output_type": "stream",
     "text": [
      "7\n"
     ]
    }
   ],
   "source": [
    "print(string.find(\"Language\"));"
   ]
  },
  {
   "cell_type": "code",
   "execution_count": 50,
   "id": "5cb64a5e-3303-4c48-8b47-0e5c97fc05e9",
   "metadata": {},
   "outputs": [],
   "source": [
    "string = \"Java Language, Python Language\""
   ]
  },
  {
   "cell_type": "code",
   "execution_count": 51,
   "id": "524791ab-4aa5-4423-9813-34fde779fae8",
   "metadata": {},
   "outputs": [
    {
     "name": "stdout",
     "output_type": "stream",
     "text": [
      "5\n"
     ]
    }
   ],
   "source": [
    "print(string.index(\"Language\"))"
   ]
  },
  {
   "cell_type": "markdown",
   "id": "399da7ef-b917-47db-aa05-fde3738bf929",
   "metadata": {},
   "source": [
    "Find the last occurrence of a word in a string."
   ]
  },
  {
   "cell_type": "code",
   "execution_count": 59,
   "id": "46fa7f42-3faa-476b-b588-f5d6319c43e6",
   "metadata": {},
   "outputs": [],
   "source": [
    "s3 = \"Hello, welcome to my world.\""
   ]
  },
  {
   "cell_type": "code",
   "execution_count": 60,
   "id": "c26e8d75-4983-47b9-8b21-479edc90b742",
   "metadata": {},
   "outputs": [],
   "source": [
    "x = s3.rfind(\"e\")"
   ]
  },
  {
   "cell_type": "code",
   "execution_count": 61,
   "id": "820742d7-3ee7-478f-8fb6-b251b6c683a4",
   "metadata": {},
   "outputs": [
    {
     "data": {
      "text/plain": [
       "13"
      ]
     },
     "execution_count": 61,
     "metadata": {},
     "output_type": "execute_result"
    }
   ],
   "source": [
    "x"
   ]
  },
  {
   "cell_type": "markdown",
   "id": "ba20acde-8095-4906-ac3c-066c7f04f901",
   "metadata": {},
   "source": [
    "Split a string into a list of words."
   ]
  },
  {
   "cell_type": "code",
   "execution_count": 64,
   "id": "2ec6b448-f57c-42fd-a3fe-a227830043fc",
   "metadata": {},
   "outputs": [],
   "source": [
    "s4= \"Hello welcome to my world.\""
   ]
  },
  {
   "cell_type": "code",
   "execution_count": 65,
   "id": "c1501693-7ec2-4488-9049-ed6a5b29b6c3",
   "metadata": {},
   "outputs": [
    {
     "data": {
      "text/plain": [
       "['Hello', 'welcome', 'to', 'my', 'world.']"
      ]
     },
     "execution_count": 65,
     "metadata": {},
     "output_type": "execute_result"
    }
   ],
   "source": [
    "s4.split()"
   ]
  },
  {
   "cell_type": "markdown",
   "id": "0328cc3f-b219-4e8b-82a3-e321e0d650e1",
   "metadata": {},
   "source": [
    "Join a list of words into a string.\n"
   ]
  },
  {
   "cell_type": "code",
   "execution_count": 89,
   "id": "f6de536b-88de-4146-9a49-7fd0e692519a",
   "metadata": {},
   "outputs": [],
   "source": [
    "l6 = ['g', 'e', 'e', 'k', 's']"
   ]
  },
  {
   "cell_type": "code",
   "execution_count": 90,
   "id": "5c72a843-5326-4c57-b3d9-c597e945539a",
   "metadata": {},
   "outputs": [
    {
     "data": {
      "text/plain": [
       "'geeks'"
      ]
     },
     "execution_count": 90,
     "metadata": {},
     "output_type": "execute_result"
    }
   ],
   "source": [
    "(\"\".join(l6))"
   ]
  },
  {
   "cell_type": "code",
   "execution_count": 95,
   "id": "e8538e46-ae82-48a7-8d32-363c3e2e4bf6",
   "metadata": {},
   "outputs": [],
   "source": [
    "s5= 'Hello welcome to my world . My Name is Kapil'"
   ]
  },
  {
   "cell_type": "code",
   "execution_count": 96,
   "id": "5991a1e3-a47a-4cb6-b09f-d993919e89ed",
   "metadata": {},
   "outputs": [
    {
     "data": {
      "text/plain": [
       "['Hello', 'welcome', 'to', 'my', 'world', '.', 'My', 'Name', 'is', 'Kapil']"
      ]
     },
     "execution_count": 96,
     "metadata": {},
     "output_type": "execute_result"
    }
   ],
   "source": [
    "s5.split()"
   ]
  },
  {
   "cell_type": "markdown",
   "id": "d74fbfdc-eb07-477b-b13a-584f7c109d50",
   "metadata": {},
   "source": [
    "Convert a string where words are separated by spaces to one where words\n",
    "are separated by underscores."
   ]
  },
  {
   "cell_type": "code",
   "execution_count": 104,
   "id": "25fb335d-402f-4c84-a888-928dd546a763",
   "metadata": {},
   "outputs": [],
   "source": [
    "s6=\"hello_world\""
   ]
  },
  {
   "cell_type": "code",
   "execution_count": 105,
   "id": "c67e30fc-ee11-4260-8900-ccf4b9c69d01",
   "metadata": {},
   "outputs": [
    {
     "data": {
      "text/plain": [
       "['hello', 'world']"
      ]
     },
     "execution_count": 105,
     "metadata": {},
     "output_type": "execute_result"
    }
   ],
   "source": [
    "s6.split(\"_\")"
   ]
  },
  {
   "cell_type": "code",
   "execution_count": 103,
   "id": "3da7505a-b9d8-4795-ba82-d72f1a736c9f",
   "metadata": {},
   "outputs": [
    {
     "data": {
      "text/plain": [
       "'hello.world'"
      ]
     },
     "execution_count": 103,
     "metadata": {},
     "output_type": "execute_result"
    }
   ],
   "source": [
    "s6"
   ]
  },
  {
   "cell_type": "markdown",
   "id": "14eadb4b-5f42-4f36-9ea2-62a844e13ba8",
   "metadata": {},
   "source": [
    "Check if a string starts with a specific word or phrase."
   ]
  },
  {
   "cell_type": "code",
   "execution_count": 114,
   "id": "374f023b-6e3e-4475-bf60-be02aa373a6e",
   "metadata": {},
   "outputs": [
    {
     "data": {
      "text/plain": [
       "'My Name is Kapil '"
      ]
     },
     "execution_count": 114,
     "metadata": {},
     "output_type": "execute_result"
    }
   ],
   "source": [
    "s2"
   ]
  },
  {
   "cell_type": "code",
   "execution_count": 116,
   "id": "c7ee95ba-bc49-4f9c-9797-5d707fa5315d",
   "metadata": {},
   "outputs": [
    {
     "data": {
      "text/plain": [
       "True"
      ]
     },
     "execution_count": 116,
     "metadata": {},
     "output_type": "execute_result"
    }
   ],
   "source": [
    "s2.startswith('My')"
   ]
  },
  {
   "cell_type": "code",
   "execution_count": 125,
   "id": "29e1cf1d-43ee-4b64-828a-c95ab5d0cebe",
   "metadata": {},
   "outputs": [],
   "source": [
    "s3 = \"this is string example....wow!!!\";"
   ]
  },
  {
   "cell_type": "code",
   "execution_count": 127,
   "id": "a0039378-932d-4240-9538-71148a012686",
   "metadata": {},
   "outputs": [
    {
     "data": {
      "text/plain": [
       "True"
      ]
     },
     "execution_count": 127,
     "metadata": {},
     "output_type": "execute_result"
    }
   ],
   "source": [
    "s3.startswith('this')"
   ]
  },
  {
   "cell_type": "markdown",
   "id": "ddc49847-705a-4e86-a65a-a6ce228b2c06",
   "metadata": {},
   "source": [
    "Check if a string ends with a specific word or phrase."
   ]
  },
  {
   "cell_type": "code",
   "execution_count": 128,
   "id": "1856de59-7a76-4c92-afa0-132081051026",
   "metadata": {},
   "outputs": [],
   "source": [
    "s4 = \"Hello, welcome to my world.\""
   ]
  },
  {
   "cell_type": "code",
   "execution_count": 129,
   "id": "7c190f69-803b-4d78-ae04-452e369c7d83",
   "metadata": {},
   "outputs": [
    {
     "data": {
      "text/plain": [
       "True"
      ]
     },
     "execution_count": 129,
     "metadata": {},
     "output_type": "execute_result"
    }
   ],
   "source": [
    "s4.endswith(\"my world.\")"
   ]
  },
  {
   "cell_type": "code",
   "execution_count": 130,
   "id": "71a4d980-ea96-43f9-b29f-e0cb837f649c",
   "metadata": {},
   "outputs": [
    {
     "data": {
      "text/plain": [
       "'Hello, welcome to my world.'"
      ]
     },
     "execution_count": 130,
     "metadata": {},
     "output_type": "execute_result"
    }
   ],
   "source": [
    "s4"
   ]
  },
  {
   "cell_type": "code",
   "execution_count": 131,
   "id": "4358879d-e472-4ece-b7b3-37c56caf0bcc",
   "metadata": {},
   "outputs": [
    {
     "data": {
      "text/plain": [
       "False"
      ]
     },
     "execution_count": 131,
     "metadata": {},
     "output_type": "execute_result"
    }
   ],
   "source": [
    "s4.endswith(\"my world,'5'\")"
   ]
  },
  {
   "cell_type": "markdown",
   "id": "666c580e-4d60-45aa-8947-a1ed73504af1",
   "metadata": {},
   "source": [
    "Convert a string to title case (e.g., \"hello world\" to \"Hello World\")."
   ]
  },
  {
   "cell_type": "code",
   "execution_count": 132,
   "id": "de698580-d0fa-49cd-a348-389d315d1418",
   "metadata": {},
   "outputs": [
    {
     "data": {
      "text/plain": [
       "'Hello, welcome to my world.'"
      ]
     },
     "execution_count": 132,
     "metadata": {},
     "output_type": "execute_result"
    }
   ],
   "source": [
    "s4"
   ]
  },
  {
   "cell_type": "code",
   "execution_count": 133,
   "id": "a69e60f5-85dd-40c8-b04b-6366544ac85c",
   "metadata": {},
   "outputs": [
    {
     "data": {
      "text/plain": [
       "'Hello, Welcome To My World.'"
      ]
     },
     "execution_count": 133,
     "metadata": {},
     "output_type": "execute_result"
    }
   ],
   "source": [
    "s4.title()"
   ]
  },
  {
   "cell_type": "code",
   "execution_count": 134,
   "id": "ba5c5c63-395c-4f37-8096-fb7912b9172c",
   "metadata": {},
   "outputs": [],
   "source": [
    "s5=\"hello world\""
   ]
  },
  {
   "cell_type": "code",
   "execution_count": 152,
   "id": "dfe1802e-1537-442c-ba1f-3556cf398c20",
   "metadata": {},
   "outputs": [
    {
     "data": {
      "text/plain": [
       "'Hello World'"
      ]
     },
     "execution_count": 152,
     "metadata": {},
     "output_type": "execute_result"
    }
   ],
   "source": [
    "s5.title()"
   ]
  },
  {
   "cell_type": "markdown",
   "id": "b0b62446-a54a-4acb-b559-158eb9109733",
   "metadata": {},
   "source": [
    "Reverse the order of words in a string."
   ]
  },
  {
   "cell_type": "code",
   "execution_count": 156,
   "id": "48cd7c8b-ce66-42b5-8823-a3d2b43ee367",
   "metadata": {},
   "outputs": [
    {
     "data": {
      "text/plain": [
       "['sudh', 35, 2, 1, 'ram', 'kapil']"
      ]
     },
     "execution_count": 156,
     "metadata": {},
     "output_type": "execute_result"
    }
   ],
   "source": [
    "l1"
   ]
  },
  {
   "cell_type": "code",
   "execution_count": 157,
   "id": "1c15f722-1709-417f-b674-714950c8f7b7",
   "metadata": {},
   "outputs": [],
   "source": [
    "l1.reverse()"
   ]
  },
  {
   "cell_type": "code",
   "execution_count": 159,
   "id": "461c8d02-3dbf-4953-a7cd-686d7c7ad77c",
   "metadata": {},
   "outputs": [
    {
     "data": {
      "text/plain": [
       "['kapil', 'ram', 1, 2, 35, 'sudh']"
      ]
     },
     "execution_count": 159,
     "metadata": {},
     "output_type": "execute_result"
    }
   ],
   "source": [
    "l1"
   ]
  },
  {
   "cell_type": "code",
   "execution_count": 161,
   "id": "59b0795e-fd4f-45dc-8a5a-a67447f5173a",
   "metadata": {},
   "outputs": [
    {
     "data": {
      "text/plain": [
       "(1, 2, 3, 4, 5, 6)"
      ]
     },
     "execution_count": 161,
     "metadata": {},
     "output_type": "execute_result"
    }
   ],
   "source": [
    "l2"
   ]
  },
  {
   "cell_type": "code",
   "execution_count": 162,
   "id": "a2c9b4f8-bfc9-4b71-aa79-e089cb8e143f",
   "metadata": {},
   "outputs": [
    {
     "data": {
      "text/plain": [
       "(6, 5, 4, 3, 2, 1)"
      ]
     },
     "execution_count": 162,
     "metadata": {},
     "output_type": "execute_result"
    }
   ],
   "source": [
    "l2[: : -1]"
   ]
  },
  {
   "cell_type": "markdown",
   "id": "8adee629-daff-4d1d-a1c2-1c09d57af953",
   "metadata": {},
   "source": [
    "Check if a string is alphanumeric."
   ]
  },
  {
   "cell_type": "code",
   "execution_count": 163,
   "id": "4d92b113-6313-4c38-9ca7-f3bed955ff3a",
   "metadata": {},
   "outputs": [
    {
     "data": {
      "text/plain": [
       "'hello world'"
      ]
     },
     "execution_count": 163,
     "metadata": {},
     "output_type": "execute_result"
    }
   ],
   "source": [
    "s5"
   ]
  },
  {
   "cell_type": "code",
   "execution_count": 165,
   "id": "416629f9-4092-4633-8b75-2f7b20b2c268",
   "metadata": {},
   "outputs": [
    {
     "data": {
      "text/plain": [
       "False"
      ]
     },
     "execution_count": 165,
     "metadata": {},
     "output_type": "execute_result"
    }
   ],
   "source": [
    "s5.isalnum()"
   ]
  },
  {
   "cell_type": "code",
   "execution_count": 170,
   "id": "7becb25a-4ca2-4b99-99fa-cd37bc35cd72",
   "metadata": {},
   "outputs": [],
   "source": [
    "s7 ='PWSKILL'"
   ]
  },
  {
   "cell_type": "code",
   "execution_count": 171,
   "id": "6c32dd21-bb3b-40b3-a5be-fecaa51ebbee",
   "metadata": {},
   "outputs": [
    {
     "data": {
      "text/plain": [
       "True"
      ]
     },
     "execution_count": 171,
     "metadata": {},
     "output_type": "execute_result"
    }
   ],
   "source": [
    "s7.isalnum()"
   ]
  },
  {
   "cell_type": "markdown",
   "id": "c7160bae-01ea-4d4f-91c3-3784626fa680",
   "metadata": {},
   "source": [
    "Extract all digits from a string."
   ]
  },
  {
   "cell_type": "code",
   "execution_count": 178,
   "id": "c5d1e58d-c47c-4056-845b-c9028c45e3b0",
   "metadata": {},
   "outputs": [],
   "source": [
    "l3= \"hello 12 hi 89\""
   ]
  },
  {
   "cell_type": "code",
   "execution_count": 179,
   "id": "a6c960b9-2906-4cc1-9161-46c4be13b137",
   "metadata": {},
   "outputs": [
    {
     "data": {
      "text/plain": [
       "False"
      ]
     },
     "execution_count": 179,
     "metadata": {},
     "output_type": "execute_result"
    }
   ],
   "source": [
    "l3.isdigit()"
   ]
  },
  {
   "cell_type": "markdown",
   "id": "899aa704-b8fc-4050-88a7-cb7eac4a6a9e",
   "metadata": {},
   "source": [
    "Extract all alphabets from a string."
   ]
  },
  {
   "cell_type": "code",
   "execution_count": 181,
   "id": "2ee2e48f-6283-4d22-a228-9a5a221ab369",
   "metadata": {},
   "outputs": [
    {
     "data": {
      "text/plain": [
       "'hello 12 hi 89'"
      ]
     },
     "execution_count": 181,
     "metadata": {},
     "output_type": "execute_result"
    }
   ],
   "source": [
    "l3"
   ]
  },
  {
   "cell_type": "code",
   "execution_count": 182,
   "id": "f147bfc2-a744-49dc-bfdc-7f462880041d",
   "metadata": {},
   "outputs": [
    {
     "data": {
      "text/plain": [
       "False"
      ]
     },
     "execution_count": 182,
     "metadata": {},
     "output_type": "execute_result"
    }
   ],
   "source": [
    "l3.isdigit()"
   ]
  },
  {
   "cell_type": "markdown",
   "id": "6c983094-9a30-466e-83a4-7a959351d7f2",
   "metadata": {},
   "source": [
    "Remove a specific word from a string."
   ]
  },
  {
   "cell_type": "code",
   "execution_count": 185,
   "id": "acb3404d-f2c8-4e16-ba69-68e4603dc3b6",
   "metadata": {},
   "outputs": [],
   "source": [
    "l4=[1,2,3,4,5,'Kapil','Kumar',(3+4j)]"
   ]
  },
  {
   "cell_type": "code",
   "execution_count": 186,
   "id": "f2e1a388-d0aa-44dd-8f58-f454383ffba4",
   "metadata": {},
   "outputs": [],
   "source": [
    "l4.remove('Kumar')"
   ]
  },
  {
   "cell_type": "code",
   "execution_count": 187,
   "id": "6411b633-cf75-46f3-a6b1-ecce39ba89cf",
   "metadata": {},
   "outputs": [
    {
     "data": {
      "text/plain": [
       "[1, 2, 3, 4, 5, 'Kapil', (3+4j)]"
      ]
     },
     "execution_count": 187,
     "metadata": {},
     "output_type": "execute_result"
    }
   ],
   "source": [
    "l4"
   ]
  },
  {
   "cell_type": "markdown",
   "id": "c70a84bd-22a2-4d30-80c1-d54973990904",
   "metadata": {},
   "source": [
    "Filter out all even numbers from a list."
   ]
  },
  {
   "cell_type": "code",
   "execution_count": 3,
   "id": "1c18a1fc-77bf-4c75-baa2-10c5d181df9e",
   "metadata": {},
   "outputs": [],
   "source": [
    "l1 = [0,1,2,3,4,5,6,7,8,9,10,12]"
   ]
  },
  {
   "cell_type": "code",
   "execution_count": 4,
   "id": "0e72b8d7-5cfe-425f-8406-74604aa53f3c",
   "metadata": {},
   "outputs": [
    {
     "data": {
      "text/plain": [
       "[0, 2, 4, 6, 8, 10]"
      ]
     },
     "execution_count": 4,
     "metadata": {},
     "output_type": "execute_result"
    }
   ],
   "source": [
    "l1[0:12:2]"
   ]
  },
  {
   "cell_type": "markdown",
   "id": "868cd8bb-696e-4397-a9af-d74596c9b372",
   "metadata": {},
   "source": [
    "Multiply all elements in a list by 2."
   ]
  },
  {
   "cell_type": "code",
   "execution_count": 5,
   "id": "9edce7b5-4905-4370-8803-80da05636e23",
   "metadata": {},
   "outputs": [
    {
     "data": {
      "text/plain": [
       "[0, 1, 2, 3, 4, 5, 6, 7, 8, 9, 10, 12]"
      ]
     },
     "execution_count": 5,
     "metadata": {},
     "output_type": "execute_result"
    }
   ],
   "source": [
    "l1"
   ]
  },
  {
   "cell_type": "code",
   "execution_count": 6,
   "id": "c37d05bb-108a-46a8-a65a-789bd7040b0c",
   "metadata": {},
   "outputs": [
    {
     "data": {
      "text/plain": [
       "[0, 1, 2, 3, 4, 5, 6, 7, 8, 9, 10, 12, 0, 1, 2, 3, 4, 5, 6, 7, 8, 9, 10, 12]"
      ]
     },
     "execution_count": 6,
     "metadata": {},
     "output_type": "execute_result"
    }
   ],
   "source": [
    "l1*2"
   ]
  },
  {
   "cell_type": "markdown",
   "id": "5d836985-65ba-4069-a628-a1ff9912720f",
   "metadata": {},
   "source": [
    "Remove duplicates from a list."
   ]
  },
  {
   "cell_type": "code",
   "execution_count": 7,
   "id": "2a2468cd-d34e-4f16-b291-f549565670b2",
   "metadata": {},
   "outputs": [],
   "source": [
    "s1={1,2,2,3,3,4,5,5,6}"
   ]
  },
  {
   "cell_type": "code",
   "execution_count": 44,
   "id": "4dd273ea-19cf-46f3-ab92-7ceee7f26caa",
   "metadata": {},
   "outputs": [
    {
     "data": {
      "text/plain": [
       "{1, 2, 3, 4, 5, 6}"
      ]
     },
     "execution_count": 44,
     "metadata": {},
     "output_type": "execute_result"
    }
   ],
   "source": [
    "s1"
   ]
  },
  {
   "cell_type": "markdown",
   "id": "aaba9ad8-c3b2-4f40-a0a0-86bd89a55fcb",
   "metadata": {},
   "source": [
    "Remove all elements from a list."
   ]
  },
  {
   "cell_type": "code",
   "execution_count": 45,
   "id": "cd3010fe-7757-45be-abf8-beef7af6dee6",
   "metadata": {},
   "outputs": [
    {
     "data": {
      "text/plain": [
       "[0, 1, 2, 3, 4, 5, 6, 7, 8, 9, 10, 12]"
      ]
     },
     "execution_count": 45,
     "metadata": {},
     "output_type": "execute_result"
    }
   ],
   "source": [
    "l1"
   ]
  },
  {
   "cell_type": "code",
   "execution_count": 46,
   "id": "0d88d492-60bc-490a-a9d8-0efeb0ee03fc",
   "metadata": {},
   "outputs": [],
   "source": [
    "l1.clear()"
   ]
  },
  {
   "cell_type": "code",
   "execution_count": 47,
   "id": "6210de84-a394-4e2c-8b21-2a2dbfa3a183",
   "metadata": {},
   "outputs": [
    {
     "data": {
      "text/plain": [
       "[]"
      ]
     },
     "execution_count": 47,
     "metadata": {},
     "output_type": "execute_result"
    }
   ],
   "source": [
    "l1"
   ]
  },
  {
   "cell_type": "markdown",
   "id": "5e8fc4f9-c9dd-4077-8b7d-c95178de0ff0",
   "metadata": {},
   "source": [
    "Add an element to a set."
   ]
  },
  {
   "cell_type": "code",
   "execution_count": 48,
   "id": "02c53f6c-77aa-4142-9cf5-fc1480808619",
   "metadata": {},
   "outputs": [
    {
     "data": {
      "text/plain": [
       "{1, 2, 3, 4, 5, 6}"
      ]
     },
     "execution_count": 48,
     "metadata": {},
     "output_type": "execute_result"
    }
   ],
   "source": [
    "s1"
   ]
  },
  {
   "cell_type": "code",
   "execution_count": 49,
   "id": "7953b119-a379-43a9-b91b-35f215591510",
   "metadata": {},
   "outputs": [],
   "source": [
    "s1.add(\"Kapil\")"
   ]
  },
  {
   "cell_type": "code",
   "execution_count": 50,
   "id": "1a21799d-53a5-48d4-8d6e-e8ead8b8dcb4",
   "metadata": {},
   "outputs": [
    {
     "data": {
      "text/plain": [
       "{1, 2, 3, 4, 5, 6, 'Kapil'}"
      ]
     },
     "execution_count": 50,
     "metadata": {},
     "output_type": "execute_result"
    }
   ],
   "source": [
    "s1"
   ]
  },
  {
   "cell_type": "markdown",
   "id": "7cb44ae2-fe17-4df6-91a8-5d35627e271d",
   "metadata": {},
   "source": [
    "Remove an element from a set."
   ]
  },
  {
   "cell_type": "code",
   "execution_count": 52,
   "id": "f90f6c22-4add-475e-aa3d-7ffad647ce2b",
   "metadata": {},
   "outputs": [
    {
     "data": {
      "text/plain": [
       "{1, 2, 3, 4, 5, 6, 'Kapil'}"
      ]
     },
     "execution_count": 52,
     "metadata": {},
     "output_type": "execute_result"
    }
   ],
   "source": [
    "s1"
   ]
  },
  {
   "cell_type": "code",
   "execution_count": 53,
   "id": "2302682a-4106-4113-b224-703b33b86369",
   "metadata": {},
   "outputs": [],
   "source": [
    "s1.remove('Kapil')"
   ]
  },
  {
   "cell_type": "code",
   "execution_count": 54,
   "id": "3e818409-fe0b-4881-84b6-ecd49bcf1904",
   "metadata": {},
   "outputs": [
    {
     "data": {
      "text/plain": [
       "{1, 2, 3, 4, 5, 6}"
      ]
     },
     "execution_count": 54,
     "metadata": {},
     "output_type": "execute_result"
    }
   ],
   "source": [
    "s1"
   ]
  },
  {
   "cell_type": "markdown",
   "id": "2733fc6a-4368-4a79-aca9-ce14d40ae0a2",
   "metadata": {},
   "source": [
    "Check if an element exists in a set."
   ]
  },
  {
   "cell_type": "code",
   "execution_count": 56,
   "id": "b1afe579-8015-44ab-9407-4b69a39cd8ae",
   "metadata": {},
   "outputs": [
    {
     "data": {
      "text/plain": [
       "{1, 2, 3, 4, 5, 6}"
      ]
     },
     "execution_count": 56,
     "metadata": {},
     "output_type": "execute_result"
    }
   ],
   "source": [
    "s1"
   ]
  },
  {
   "cell_type": "markdown",
   "id": "784469b2-1d62-495e-87bb-775a0b28a05b",
   "metadata": {},
   "source": [
    "Clear all elements from a set."
   ]
  },
  {
   "cell_type": "code",
   "execution_count": 57,
   "id": "64dfb076-d426-4d97-8358-276dc8e3bb8a",
   "metadata": {},
   "outputs": [
    {
     "data": {
      "text/plain": [
       "{1, 2, 3, 4, 5, 6}"
      ]
     },
     "execution_count": 57,
     "metadata": {},
     "output_type": "execute_result"
    }
   ],
   "source": [
    "s1"
   ]
  },
  {
   "cell_type": "code",
   "execution_count": 58,
   "id": "4440f823-4f87-40c4-86d0-03e3f0a84172",
   "metadata": {},
   "outputs": [],
   "source": [
    "s1.clear()"
   ]
  },
  {
   "cell_type": "code",
   "execution_count": 59,
   "id": "4ac71f7a-1ce7-40d0-8c7e-68da820db162",
   "metadata": {},
   "outputs": [
    {
     "data": {
      "text/plain": [
       "set()"
      ]
     },
     "execution_count": 59,
     "metadata": {},
     "output_type": "execute_result"
    }
   ],
   "source": [
    "s1"
   ]
  },
  {
   "cell_type": "markdown",
   "id": "4df61ff5-062d-4143-b287-e3c54ea253d7",
   "metadata": {},
   "source": [
    "Create a set of even numbers from 1 to 10."
   ]
  },
  {
   "cell_type": "code",
   "execution_count": 73,
   "id": "4fc944d0-0a24-44da-997d-004f35a4fba3",
   "metadata": {},
   "outputs": [],
   "source": [
    "l1=[1,2,3,4,5,6,7,8,9,10]"
   ]
  },
  {
   "cell_type": "code",
   "execution_count": 77,
   "id": "188069db-a78b-46c7-a1a0-67dcba05cc98",
   "metadata": {},
   "outputs": [
    {
     "data": {
      "text/plain": [
       "{1, 3, 5, 7, 9}"
      ]
     },
     "execution_count": 77,
     "metadata": {},
     "output_type": "execute_result"
    }
   ],
   "source": [
    "set(l1[0:10:2])"
   ]
  },
  {
   "cell_type": "markdown",
   "id": "603587ea-915b-48b0-a0dd-8edfe29b5501",
   "metadata": {},
   "source": [
    "Create a set of odd numbers from 1 to 10."
   ]
  },
  {
   "cell_type": "code",
   "execution_count": 78,
   "id": "37dad5f7-66f1-4738-96c0-292fdce1eed9",
   "metadata": {},
   "outputs": [
    {
     "data": {
      "text/plain": [
       "[1, 2, 3, 4, 5, 6, 7, 8, 9, 10]"
      ]
     },
     "execution_count": 78,
     "metadata": {},
     "output_type": "execute_result"
    }
   ],
   "source": [
    "l1"
   ]
  },
  {
   "cell_type": "code",
   "execution_count": 80,
   "id": "2194d791-e8d7-4a38-85c3-3f175128af6b",
   "metadata": {},
   "outputs": [
    {
     "data": {
      "text/plain": [
       "{2, 4, 6, 8, 10}"
      ]
     },
     "execution_count": 80,
     "metadata": {},
     "output_type": "execute_result"
    }
   ],
   "source": [
    "set(l1[1:10:2])"
   ]
  },
  {
   "cell_type": "markdown",
   "id": "e7d57a6b-55f9-486c-9d90-ae06dfb48008",
   "metadata": {},
   "source": [
    "Convert a set to a list."
   ]
  },
  {
   "cell_type": "code",
   "execution_count": 81,
   "id": "f0b3290d-78b7-4810-b8bf-4622e7083081",
   "metadata": {},
   "outputs": [
    {
     "data": {
      "text/plain": [
       "{1, 2, 3, 4, 5, 6, 7, 8, 9, 10}"
      ]
     },
     "execution_count": 81,
     "metadata": {},
     "output_type": "execute_result"
    }
   ],
   "source": [
    "s1"
   ]
  },
  {
   "cell_type": "code",
   "execution_count": 82,
   "id": "96c1fe64-c68c-460a-bfa2-5a99238cec62",
   "metadata": {},
   "outputs": [
    {
     "data": {
      "text/plain": [
       "[1, 2, 3, 4, 5, 6, 7, 8, 9, 10]"
      ]
     },
     "execution_count": 82,
     "metadata": {},
     "output_type": "execute_result"
    }
   ],
   "source": [
    "list(s1)"
   ]
  },
  {
   "cell_type": "markdown",
   "id": "9f09a088-1fac-4116-8a08-680e6afcf092",
   "metadata": {},
   "source": [
    "Create a set from a list."
   ]
  },
  {
   "cell_type": "code",
   "execution_count": 83,
   "id": "7ee26cde-2567-4da2-a160-e58dfb0327a8",
   "metadata": {},
   "outputs": [
    {
     "data": {
      "text/plain": [
       "{1, 2, 3, 4, 5, 6, 7, 8, 9, 10}"
      ]
     },
     "execution_count": 83,
     "metadata": {},
     "output_type": "execute_result"
    }
   ],
   "source": [
    "s1"
   ]
  },
  {
   "cell_type": "code",
   "execution_count": 84,
   "id": "0d3efab4-1267-4dfc-9338-fc1eab07ddf6",
   "metadata": {},
   "outputs": [
    {
     "data": {
      "text/plain": [
       "[1, 2, 3, 4, 5, 6, 7, 8, 9, 10]"
      ]
     },
     "execution_count": 84,
     "metadata": {},
     "output_type": "execute_result"
    }
   ],
   "source": [
    "list(s1)"
   ]
  },
  {
   "cell_type": "markdown",
   "id": "ce935bad-a356-4ae3-807d-2ce30ec58787",
   "metadata": {},
   "source": [
    "Remove a random element from a set."
   ]
  },
  {
   "cell_type": "code",
   "execution_count": 85,
   "id": "4b067d42-f9cc-4d65-adb2-1f020cfe3eee",
   "metadata": {},
   "outputs": [
    {
     "data": {
      "text/plain": [
       "{1, 2, 3, 4, 5, 6, 7, 8, 9, 10}"
      ]
     },
     "execution_count": 85,
     "metadata": {},
     "output_type": "execute_result"
    }
   ],
   "source": [
    "s1"
   ]
  },
  {
   "cell_type": "code",
   "execution_count": 86,
   "id": "73f70e13-661b-4a12-9c25-94c6d6b506f7",
   "metadata": {},
   "outputs": [],
   "source": [
    "s1.remove(10)"
   ]
  },
  {
   "cell_type": "code",
   "execution_count": 87,
   "id": "c86c6522-cac5-4317-9bf9-0de15526b8e1",
   "metadata": {},
   "outputs": [
    {
     "data": {
      "text/plain": [
       "{1, 2, 3, 4, 5, 6, 7, 8, 9}"
      ]
     },
     "execution_count": 87,
     "metadata": {},
     "output_type": "execute_result"
    }
   ],
   "source": [
    "s1"
   ]
  },
  {
   "cell_type": "markdown",
   "id": "7ea49bcf-9d9c-4501-8157-8da0b5e6531c",
   "metadata": {},
   "source": [
    "Pop an element from a set."
   ]
  },
  {
   "cell_type": "code",
   "execution_count": 89,
   "id": "057bef95-0ce5-4836-95fd-6641b523eaa2",
   "metadata": {},
   "outputs": [
    {
     "data": {
      "text/plain": [
       "{1, 2, 3, 4, 5, 6, 7, 8, 9}"
      ]
     },
     "execution_count": 89,
     "metadata": {},
     "output_type": "execute_result"
    }
   ],
   "source": [
    "s1"
   ]
  },
  {
   "cell_type": "code",
   "execution_count": 90,
   "id": "1e744d03-7896-4642-99bd-79f587f7a39e",
   "metadata": {},
   "outputs": [
    {
     "data": {
      "text/plain": [
       "1"
      ]
     },
     "execution_count": 90,
     "metadata": {},
     "output_type": "execute_result"
    }
   ],
   "source": [
    "s1.pop()"
   ]
  },
  {
   "cell_type": "code",
   "execution_count": 91,
   "id": "afc06682-2eda-4c42-986a-b1a3627bb912",
   "metadata": {},
   "outputs": [
    {
     "data": {
      "text/plain": [
       "{2, 3, 4, 5, 6, 7, 8, 9}"
      ]
     },
     "execution_count": 91,
     "metadata": {},
     "output_type": "execute_result"
    }
   ],
   "source": [
    "s1"
   ]
  },
  {
   "cell_type": "markdown",
   "id": "e73d381a-361d-4ede-b81d-f433a0767f18",
   "metadata": {},
   "source": [
    "Multiply all elements in a set by 2."
   ]
  },
  {
   "cell_type": "code",
   "execution_count": 92,
   "id": "68ea3ec6-6755-4bae-8f41-828c8de61d4b",
   "metadata": {},
   "outputs": [
    {
     "data": {
      "text/plain": [
       "{2, 3, 4, 5, 6, 7, 8, 9}"
      ]
     },
     "execution_count": 92,
     "metadata": {},
     "output_type": "execute_result"
    }
   ],
   "source": [
    "s1"
   ]
  },
  {
   "cell_type": "code",
   "execution_count": 103,
   "id": "5e9c7089-56aa-4c5c-b4d7-0dc4cb2970f5",
   "metadata": {},
   "outputs": [
    {
     "data": {
      "text/plain": [
       "[2, 3, 4, 5, 6, 7, 8, 9, 2, 3, 4, 5, 6, 7, 8, 9]"
      ]
     },
     "execution_count": 103,
     "metadata": {},
     "output_type": "execute_result"
    }
   ],
   "source": [
    "list(s1)*2"
   ]
  },
  {
   "cell_type": "markdown",
   "id": "d4271512-c020-4a76-800d-adc7b934006d",
   "metadata": {},
   "source": [
    "Remove an element from a set using the discard method."
   ]
  },
  {
   "cell_type": "code",
   "execution_count": 104,
   "id": "759fb9d7-0241-4e29-b0bf-08e77eaa6a47",
   "metadata": {},
   "outputs": [
    {
     "data": {
      "text/plain": [
       "{2, 3, 4, 5, 6, 7, 8, 9}"
      ]
     },
     "execution_count": 104,
     "metadata": {},
     "output_type": "execute_result"
    }
   ],
   "source": [
    "s1"
   ]
  },
  {
   "cell_type": "code",
   "execution_count": 105,
   "id": "35b01cb9-01a6-4c89-9364-bd2e62a8e229",
   "metadata": {},
   "outputs": [],
   "source": [
    "s1.discard(8)"
   ]
  },
  {
   "cell_type": "code",
   "execution_count": 106,
   "id": "b5d62035-6a75-43d2-8f93-e07f337bee9c",
   "metadata": {},
   "outputs": [
    {
     "data": {
      "text/plain": [
       "{2, 3, 4, 5, 6, 7, 9}"
      ]
     },
     "execution_count": 106,
     "metadata": {},
     "output_type": "execute_result"
    }
   ],
   "source": [
    "s1"
   ]
  },
  {
   "cell_type": "markdown",
   "id": "25c9d190-59ee-46cf-9356-912c77984b9f",
   "metadata": {},
   "source": [
    "Create a set from a tuple."
   ]
  },
  {
   "cell_type": "code",
   "execution_count": 110,
   "id": "c1dcfc75-5526-453b-b2f5-20c11383fcf4",
   "metadata": {},
   "outputs": [
    {
     "data": {
      "text/plain": [
       "{2, 3, 4, 5, 6, 7, 9}"
      ]
     },
     "execution_count": 110,
     "metadata": {},
     "output_type": "execute_result"
    }
   ],
   "source": [
    "s1"
   ]
  },
  {
   "cell_type": "code",
   "execution_count": 111,
   "id": "e681ca2c-ed71-49d0-a0ce-7b23b62d6f9a",
   "metadata": {},
   "outputs": [
    {
     "data": {
      "text/plain": [
       "(2, 3, 4, 5, 6, 7, 9)"
      ]
     },
     "execution_count": 111,
     "metadata": {},
     "output_type": "execute_result"
    }
   ],
   "source": [
    "tuple(s1)"
   ]
  },
  {
   "cell_type": "markdown",
   "id": "10fb0029-d1a7-437c-acfb-61523c19ba64",
   "metadata": {},
   "source": [
    "Convert a set to a tuple."
   ]
  },
  {
   "cell_type": "code",
   "execution_count": 112,
   "id": "a0bb44e1-d568-4ecc-857c-1621d6c57a87",
   "metadata": {},
   "outputs": [
    {
     "data": {
      "text/plain": [
       "{2, 3, 4, 5, 6, 7, 9}"
      ]
     },
     "execution_count": 112,
     "metadata": {},
     "output_type": "execute_result"
    }
   ],
   "source": [
    "s1"
   ]
  },
  {
   "cell_type": "code",
   "execution_count": 123,
   "id": "d4e7a7c4-6c34-4c0e-b2f3-fce5bc0be07d",
   "metadata": {},
   "outputs": [
    {
     "data": {
      "text/plain": [
       "('Kumar', 1, 2, 3, 'kapil')"
      ]
     },
     "execution_count": 123,
     "metadata": {},
     "output_type": "execute_result"
    }
   ],
   "source": [
    "tuple(s1)"
   ]
  },
  {
   "cell_type": "code",
   "execution_count": null,
   "id": "8703f00e-da11-4836-9de7-548fdbb3b40b",
   "metadata": {},
   "outputs": [],
   "source": []
  }
 ],
 "metadata": {
  "kernelspec": {
   "display_name": "Python 3 (ipykernel)",
   "language": "python",
   "name": "python3"
  },
  "language_info": {
   "codemirror_mode": {
    "name": "ipython",
    "version": 3
   },
   "file_extension": ".py",
   "mimetype": "text/x-python",
   "name": "python",
   "nbconvert_exporter": "python",
   "pygments_lexer": "ipython3",
   "version": "3.10.8"
  }
 },
 "nbformat": 4,
 "nbformat_minor": 5
}
